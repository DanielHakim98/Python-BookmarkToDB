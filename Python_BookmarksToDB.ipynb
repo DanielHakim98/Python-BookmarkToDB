{
 "cells": [
  {
   "cell_type": "markdown",
   "metadata": {},
   "source": [
    "It is only a simple project to apply what I learn in Python and its libraries.\n",
    "Feel free to comment, criticise or suggest anything to the code."
   ]
  },
  {
   "cell_type": "code",
   "execution_count": 7,
   "metadata": {},
   "outputs": [],
   "source": [
    "from bs4 import BeautifulSoup\n",
    "import re\n",
    "import codecs\n",
    "from datetime import datetime"
   ]
  },
  {
   "cell_type": "markdown",
   "metadata": {},
   "source": [
    "Step 1:\n",
    "- Load the bookmarks/starlist data from html file."
   ]
  },
  {
   "cell_type": "code",
   "execution_count": 8,
   "metadata": {},
   "outputs": [],
   "source": [
    "fname = \"C:\\\\DiskC_Data Stars\\\\mozilla_bookmarks\\\\latestBookmark.html\"\n",
    "file = codecs.open(fname,'r','utf-8').read()\n",
    "soup = BeautifulSoup(file,'lxml')\n",
    "del soup['icon']\n",
    "bookmarks_raw=soup.findAll(\"a\")"
   ]
  },
  {
   "cell_type": "markdown",
   "metadata": {},
   "source": [
    "Step 2:\n",
    "- Convert bs4.element.ResutlSet object into list.\n",
    "- Remove unnecesary attribute such as ```icon=\"...\"``` attribute in ```<a></a>``` tag as it will consume a lot of spaces.  "
   ]
  },
  {
   "cell_type": "code",
   "execution_count": 9,
   "metadata": {},
   "outputs": [],
   "source": [
    "bookmarks = list(bookmarks_raw)\n",
    "for item in bookmarks:\n",
    "    del item['icon']"
   ]
  },
  {
   "cell_type": "markdown",
   "metadata": {},
   "source": [
    "Step 3:\n",
    "- Extract all attributes data from each ```<a></a>``` tag for bookmark link and store in list\n",
    "- Then, load each record in a list."
   ]
  },
  {
   "cell_type": "code",
   "execution_count": 10,
   "metadata": {},
   "outputs": [],
   "source": [
    "def dict_to_record(item):\n",
    "    record={}\n",
    "    record['Title']=str(item.contents[0])\n",
    "    record.update(item.attrs)\n",
    "    for key in record:\n",
    "        if key == 'add_date' or key=='last_modified':\n",
    "            ts=int(record[key])\n",
    "            record[key]=datetime.utcfromtimestamp(ts).\\\n",
    "                          strftime('%Y-%m-%d %H:%M:%S')\n",
    "    return record\n",
    "\n",
    "book_list = []\n",
    "for item in bookmarks:\n",
    "    book_dict = dict_to_record(item)\n",
    "    book_list.append(book_dict)\n"
   ]
  },
  {
   "cell_type": "markdown",
   "metadata": {},
   "source": [
    "- Check for the length of the bookmark list."
   ]
  },
  {
   "cell_type": "code",
   "execution_count": 11,
   "metadata": {},
   "outputs": [
    {
     "data": {
      "text/plain": [
       "535"
      ]
     },
     "execution_count": 11,
     "metadata": {},
     "output_type": "execute_result"
    }
   ],
   "source": [
    "len(book_list)"
   ]
  },
  {
   "cell_type": "code",
   "execution_count": 12,
   "metadata": {},
   "outputs": [],
   "source": [
    "import pandas as pd\n",
    "from IPython.display import display\n",
    "import numpy as np"
   ]
  },
  {
   "cell_type": "markdown",
   "metadata": {},
   "source": [
    "Step 4: \n",
    "- Load the bookmarks list into Pandas Dataframe."
   ]
  },
  {
   "cell_type": "code",
   "execution_count": 13,
   "metadata": {},
   "outputs": [],
   "source": [
    "starlist_df = pd.DataFrame(data=book_list)"
   ]
  },
  {
   "cell_type": "markdown",
   "metadata": {},
   "source": [
    "- All column names can be viewed by run the code snippet below. (There are some other ways to check it, feel free to try the alternative method.)"
   ]
  },
  {
   "cell_type": "code",
   "execution_count": 14,
   "metadata": {},
   "outputs": [
    {
     "data": {
      "text/plain": [
       "['Title',\n",
       " 'href',\n",
       " 'add_date',\n",
       " 'last_modified',\n",
       " 'icon_uri',\n",
       " 'tags',\n",
       " 'last_charset']"
      ]
     },
     "execution_count": 14,
     "metadata": {},
     "output_type": "execute_result"
    }
   ],
   "source": [
    "starlist_df.columns.tolist()"
   ]
  },
  {
   "cell_type": "markdown",
   "metadata": {},
   "source": [
    "Step 5:\n",
    "- [ **Only for Mozilla Browser** ] Drop any unnecessary column from the dataframe created. For this case, it's the ```last_charset``` column."
   ]
  },
  {
   "cell_type": "code",
   "execution_count": 16,
   "metadata": {},
   "outputs": [],
   "source": [
    "if 'last_charset' in starlist_df.columns.tolist():\n",
    "    starlist_df=starlist_df.drop(columns='last_charset')"
   ]
  },
  {
   "cell_type": "code",
   "execution_count": 17,
   "metadata": {},
   "outputs": [
    {
     "data": {
      "text/html": [
       "<div>\n",
       "<style scoped>\n",
       "    .dataframe tbody tr th:only-of-type {\n",
       "        vertical-align: middle;\n",
       "    }\n",
       "\n",
       "    .dataframe tbody tr th {\n",
       "        vertical-align: top;\n",
       "    }\n",
       "\n",
       "    .dataframe thead th {\n",
       "        text-align: right;\n",
       "    }\n",
       "</style>\n",
       "<table border=\"1\" class=\"dataframe\">\n",
       "  <thead>\n",
       "    <tr style=\"text-align: right;\">\n",
       "      <th></th>\n",
       "      <th>Title</th>\n",
       "      <th>href</th>\n",
       "      <th>add_date</th>\n",
       "      <th>last_modified</th>\n",
       "      <th>icon_uri</th>\n",
       "      <th>tags</th>\n",
       "    </tr>\n",
       "  </thead>\n",
       "  <tbody>\n",
       "    <tr>\n",
       "      <th>0</th>\n",
       "      <td>What is the biggest change you made in your li...</td>\n",
       "      <td>https://www.reddit.com/r/getdisciplined/commen...</td>\n",
       "      <td>2021-07-16 15:36:38</td>\n",
       "      <td>2022-01-04 14:21:51</td>\n",
       "      <td>https://www.redditstatic.com/desktop2x/img/fav...</td>\n",
       "      <td>therapy_advices_tips</td>\n",
       "    </tr>\n",
       "    <tr>\n",
       "      <th>1</th>\n",
       "      <td>VIA Character Strengths Survey Results | VIA I...</td>\n",
       "      <td>https://www.viacharacter.org/survey/surveys/fi...</td>\n",
       "      <td>2021-07-21 03:49:25</td>\n",
       "      <td>2022-01-04 14:21:51</td>\n",
       "      <td>https://via-static.global.ssl.fastly.net/favic...</td>\n",
       "      <td>therapy_advices_tips</td>\n",
       "    </tr>\n",
       "    <tr>\n",
       "      <th>2</th>\n",
       "      <td>Big Five Personality Test Results</td>\n",
       "      <td>https://openpsychometrics.org/tests/IPIP-BFFM/...</td>\n",
       "      <td>2021-07-21 03:50:40</td>\n",
       "      <td>2022-01-04 14:21:51</td>\n",
       "      <td>NaN</td>\n",
       "      <td>therapy_advices_tips</td>\n",
       "    </tr>\n",
       "  </tbody>\n",
       "</table>\n",
       "</div>"
      ],
      "text/plain": [
       "                                               Title  \\\n",
       "0  What is the biggest change you made in your li...   \n",
       "1  VIA Character Strengths Survey Results | VIA I...   \n",
       "2                  Big Five Personality Test Results   \n",
       "\n",
       "                                                href             add_date  \\\n",
       "0  https://www.reddit.com/r/getdisciplined/commen...  2021-07-16 15:36:38   \n",
       "1  https://www.viacharacter.org/survey/surveys/fi...  2021-07-21 03:49:25   \n",
       "2  https://openpsychometrics.org/tests/IPIP-BFFM/...  2021-07-21 03:50:40   \n",
       "\n",
       "         last_modified                                           icon_uri  \\\n",
       "0  2022-01-04 14:21:51  https://www.redditstatic.com/desktop2x/img/fav...   \n",
       "1  2022-01-04 14:21:51  https://via-static.global.ssl.fastly.net/favic...   \n",
       "2  2022-01-04 14:21:51                                                NaN   \n",
       "\n",
       "                   tags  \n",
       "0  therapy_advices_tips  \n",
       "1  therapy_advices_tips  \n",
       "2  therapy_advices_tips  "
      ]
     },
     "execution_count": 17,
     "metadata": {},
     "output_type": "execute_result"
    }
   ],
   "source": [
    "starlist_df.head(3)"
   ]
  },
  {
   "cell_type": "markdown",
   "metadata": {},
   "source": [
    "- Just want to check the link amount for each tags"
   ]
  },
  {
   "cell_type": "code",
   "execution_count": 23,
   "metadata": {},
   "outputs": [],
   "source": [
    "#starlist_df.groupby('tags').count()[['Title']]"
   ]
  },
  {
   "cell_type": "markdown",
   "metadata": {},
   "source": [
    "Bonus:\n",
    "- Check the validity of each url link. Some of them might not be available anymore."
   ]
  },
  {
   "cell_type": "code",
   "execution_count": 22,
   "metadata": {},
   "outputs": [],
   "source": [
    "from urllib.request import Request,urlopen\n",
    "from urllib.error import URLError, HTTPError\n",
    "\n",
    "def test_the_url(link):\n",
    "   req = Request(link)\n",
    "   try:\n",
    "      response = urlopen(req)\n",
    "   except HTTPError as e:\n",
    "      print('The server couldn\\'t fulfill the request.')\n",
    "      print('Error code: ', e.code)\n",
    "      print()\n",
    "   except URLError as e:\n",
    "      print('We failed to reach a server.')\n",
    "      print('Reason: ', e.reason)\n",
    "      print()\n",
    "   else:\n",
    "      print('Website is working fine\\n')\n"
   ]
  },
  {
   "cell_type": "code",
   "execution_count": 21,
   "metadata": {},
   "outputs": [],
   "source": []
  },
  {
   "cell_type": "code",
   "execution_count": null,
   "metadata": {},
   "outputs": [],
   "source": [
    "\n"
   ]
  },
  {
   "cell_type": "code",
   "execution_count": null,
   "metadata": {},
   "outputs": [],
   "source": []
  }
 ],
 "metadata": {
  "interpreter": {
   "hash": "8fac594bfae6525c0c41b4041d2d72effa188cc8ead05f81b1fab2bb098927fb"
  },
  "kernelspec": {
   "display_name": "Python 3.9.7 64-bit ('base': conda)",
   "language": "python",
   "name": "python3"
  },
  "language_info": {
   "codemirror_mode": {
    "name": "ipython",
    "version": 3
   },
   "file_extension": ".py",
   "mimetype": "text/x-python",
   "name": "python",
   "nbconvert_exporter": "python",
   "pygments_lexer": "ipython3",
   "version": "3.9.7"
  },
  "orig_nbformat": 4
 },
 "nbformat": 4,
 "nbformat_minor": 2
}
